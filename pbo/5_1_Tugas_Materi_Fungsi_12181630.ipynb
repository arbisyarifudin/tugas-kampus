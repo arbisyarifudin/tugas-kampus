{
  "nbformat": 4,
  "nbformat_minor": 0,
  "metadata": {
    "colab": {
      "name": "5.1_Tugas_Materi_Fungsi.ipynb",
      "provenance": [],
      "collapsed_sections": []
    },
    "kernelspec": {
      "name": "Python 3.9.0 64-bit",
      "display_name": "Python 3.9.0 64-bit",
      "metadata": {
        "interpreter": {
          "hash": "b5843a13e7131a14c3c0e364f0390d6592a995e3082c3f83420ac4385eeb2370"
        }
      }
    }
  },
  "cells": [
    {
      "cell_type": "code",
      "metadata": {
        "id": "22s8pI85u5_J"
      },
      "source": [
        ""
      ],
      "execution_count": null,
      "outputs": []
    },
    {
      "cell_type": "markdown",
      "metadata": {
        "id": "fPMZcyuxvINI"
      },
      "source": [
        "**Soal 5.1.1**\n",
        "\n",
        "Berikut ini adalah potongan kode implementasi fungsi *luas_limas_segi_empat()*\n",
        "``` javascript\n",
        "print(\"Luas : %d\" % luas_limas_segi_empat(Alas_limas, Tinggi_limas))​\n",
        "```\n",
        "Lengkapilah kode tersebut dengan merancang sebuah fungsi agar bisa diimplementasikan sesuai dengan statment potongan kode diatas.\n",
        "dengan mengetikan pada code cell di bawah ini pada editor."
      ]
    },
    {
      "cell_type": "code",
      "metadata": {
        "id": "WMeeaGjuxQfL"
      },
      "source": [
        "# Soal 4.1.1\n",
        "\n",
        "def volume_limas_segi_empat(alas_limas, tinggi_limas):\n",
        "    #rumus V = 1/3 × luas alas limas × tinggi limas\n",
        "    volume = 1/3 * alas_limas * tinggi_limas\n",
        "    return volume\n",
        "\n",
        "luas_alas_limas = 24*12 # 288 cm2\n",
        "tinggi_limas = 9 # cm\n",
        "print(\"Volume limas segi empat jika luas alasnya adalah 24cm x 12cm (288cm2) dan tingginya 9cm adalah %d cm3.\" % volume_limas_segi_empat(luas_limas,tinggi_limas))"
      ],
      "execution_count": 11,
      "outputs": [
        {
          "output_type": "stream",
          "name": "stdout",
          "text": [
            "Volume limas segi empat jika luas alasnya adalah 24cm x 12cm dan tingginya 9cm adalah 864 cm3.\n"
          ]
        }
      ]
    },
    {
      "cell_type": "code",
      "execution_count": null,
      "metadata": {},
      "outputs": [],
      "source": []
    }
  ]
}
