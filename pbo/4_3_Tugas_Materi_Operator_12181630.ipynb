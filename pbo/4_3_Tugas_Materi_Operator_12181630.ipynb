{
  "nbformat": 4,
  "nbformat_minor": 0,
  "metadata": {
    "colab": {
      "name": "4.3_Tugas_Materi_Operator.ipynb",
      "provenance": [],
      "collapsed_sections": []
    },
    "kernelspec": {
      "name": "Python 3.9.0 64-bit",
      "display_name": "Python 3.9.0 64-bit",
      "metadata": {
        "interpreter": {
          "hash": "b5843a13e7131a14c3c0e364f0390d6592a995e3082c3f83420ac4385eeb2370"
        }
      }
    }
  },
  "cells": [
    {
      "cell_type": "code",
      "metadata": {
        "id": "wOlm8I2lPwa7"
      },
      "source": [
        ""
      ],
      "execution_count": null,
      "outputs": []
    },
    {
      "cell_type": "markdown",
      "metadata": {
        "id": "xQeqMxskP66X"
      },
      "source": [
        "##Tugas Praktek\n",
        "\n",
        "Buatlah sebuah program yang bisa menentukan suatu nilai pada variable itu genap atau ganjil! Lakukan percobaan dengan langkah berikut:\n",
        "\n",
        "Buat variabel dengan nama “angka” isi dengan nilai 10\n",
        "Ganti bagian … dengan perhitungan untuk menentukan angka modulus 2 bernilai 0.\n",
        "\n",
        "1.   Buat variabel dengan nama **“angka”** isi dengan nilai 10\n",
        "2.   Ganti bagian … dengan perhitungan untuk menentukan angka modulus 2 bernilai 0.\n",
        "\n",
        "\n",
        "Cek apakah benar dia bernilai genap maka keluarkan **\"angka termasuk bilangan genap\"**, jika sudah ganti nilai variable angka dengan nilai 5 cek lagi apakah dia bernilai ganjil dan keluarkan **\"angka termasuk bilangan ganjil\"**.\n",
        "\n",
        "Note: Anda bisa menggunakan materi-materi sebelumnya dengan menggabungkannya di tugas praktek ini untuk membantu anda dalam mengerjakan.\n",
        "\n",
        "\n",
        "Ketikan pada code cell di bawah ini pada editor:"
      ]
    },
    {
      "cell_type": "code",
      "metadata": {
        "id": "eAf4FfQ-Qh57"
      },
      "source": [
        "##Jawaban Tugas Praktek 3.3\n",
        "\n",
        "## Percobaan 1 :\n",
        "\n",
        "angka = 10\n",
        "\n",
        "modulus = angka%2\n",
        "\n",
        "hasil = \"Angka di percobaan 1 termasuk bilangan genap.\" if (modulus == 0) else \"Angka di percobaan 1 termasuk bilangan ganjil.\"\n",
        "\n",
        "print(hasil)\n",
        "\n",
        "## Percobaan 2 :\n",
        "\n",
        "angka = int(input(\"Masukkan angka untuk menentukan apakah nilai tersebut genap atau ganjil :\"))\n",
        "\n",
        "modulus = angka % 2\n",
        "\n",
        "if (modulus == 0):\n",
        "    print(\"Angka di percobaan 2 termasuk bilangan genap.\")\n",
        "else :\n",
        "    print(\"Angka di percobaan 2 termasuk bilangan ganjil.\")"
      ],
      "execution_count": 43,
      "outputs": [
        {
          "output_type": "stream",
          "name": "stdout",
          "text": [
            "Angka di percobaan 1 termasuk bilangan genap\n",
            "Angka di percobaan 2 termasuk bilangan ganjil.\n"
          ]
        }
      ]
    },
    {
      "cell_type": "code",
      "execution_count": null,
      "metadata": {},
      "outputs": [],
      "source": []
    }
  ]
}