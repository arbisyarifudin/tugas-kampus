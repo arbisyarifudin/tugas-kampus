{
 "metadata": {
  "language_info": {
   "codemirror_mode": {
    "name": "ipython",
    "version": 3
   },
   "file_extension": ".py",
   "mimetype": "text/x-python",
   "name": "python",
   "nbconvert_exporter": "python",
   "pygments_lexer": "ipython3",
   "version": "3.9.0-final"
  },
  "orig_nbformat": 2,
  "kernelspec": {
   "name": "python3",
   "display_name": "Python 3.9.0 64-bit",
   "metadata": {
    "interpreter": {
     "hash": "b5843a13e7131a14c3c0e364f0390d6592a995e3082c3f83420ac4385eeb2370"
    }
   }
  }
 },
 "nbformat": 4,
 "nbformat_minor": 2,
 "cells": [
  {
   "source": [
    "# UTS PBO\n",
    "# Nama  : Arbi Syarifudin\n",
    "# NIM   : 12181630 (Kelas Malam)"
   ],
   "cell_type": "code",
   "metadata": {},
   "execution_count": 3,
   "outputs": []
  },
  {
   "cell_type": "code",
   "execution_count": 1,
   "metadata": {},
   "outputs": [
    {
     "output_type": "stream",
     "name": "stdout",
     "text": [
      "Volume bola jika jari-jarinya 30cm adalah 113040 cm2\n"
     ]
    }
   ],
   "source": [
    "\n",
    "# Jawaban Soal No. 1:\n",
    "# Misal, Doni di beri sebuah bola oleh Ayahnya yang bola tersebut memiliki jari – jari sebesar 30cm,\n",
    "# maka volume bolanya adalah:\n",
    "\n",
    "# RUMUS Menghitung volume bola: V = 4/3  x  π x r^3\n",
    "\n",
    "# DIKETAHUI:\n",
    "# jari-jarinya = 30cm\n",
    "jari_jari = 30\n",
    "# pi (π) = 3,14\n",
    "\n",
    "# buat function untuk menghitung volume bola, dengan menerima parameter jari_jari\n",
    "def hitung_volume_bola(jari_jari):\n",
    "    # hitung volume bola sesuai rumus dan jari-jari yang diberikan\n",
    "    # tampung ke dalam variabel v atau bebas namakan apa saja\n",
    "    v = (4/3) * 3.14 * (jari_jari**3) # <--- alternatif : (4/3) * 3.14 * jari_jari * jari_jari * jari_jari\n",
    "    # outputkan variabel v keluar dari fungsi dan berikan kepada si pemanggil fungsi tersebut\n",
    "    \n",
    "    return int(v)  # saya masukan ke dalam int() untuk membulatkan nilai\n",
    "\n",
    "# panggil fungsi hitung_volume_bola diatas, dengan melemparkan parameter jari_jari yang 30cm itu\n",
    "# lalu tampung ke dalam variabel volume atau bebas namakan apa saja\n",
    "volume = hitung_volume_bola(jari_jari)\n",
    "\n",
    "# print hasilnyad dengan cara:\n",
    "# print(volume) \n",
    "# atau  print(\"Volumenya adalah\", volume) \n",
    "# atau bisa juga seperti dibawah:\n",
    "print(\"Volume bola jika jari-jarinya {}cm adalah {} cm2\".format(jari_jari, volume));"
   ]
  },
  {
   "cell_type": "code",
   "execution_count": 1,
   "metadata": {
    "tags": []
   },
   "outputs": [
    {
     "output_type": "stream",
     "name": "stdout",
     "text": [
      "Volume bola jika jari-jarinya 5cm adalah 523 cm3\n",
      "Volume bola jika jari-jarinya 15cm adalah 14130 cm3\n",
      "Volume bola jika jari-jarinya 30cm adalah 113040 cm3\n",
      "Volume bola jika jari-jarinya 10cm adalah 4186 cm3\n",
      "Volume bola jika jari-jarinya 7cm adalah 1436 cm3\n"
     ]
    }
   ],
   "source": [
    "# Jawaban Soal No. 2:\n",
    "\n",
    "# buat sebuah fungsi seperti di cell pertama diatas\n",
    "def hitung_volume_bola(jari_jari):\n",
    "    # karena berasal dari input user, maka saya harus menkonversikan var jari_jari menjadi integer terlebih dahulu\n",
    "    jari_jari = int(jari_jari)\n",
    "\n",
    "    # lalu hitung volumenya dan tampung ke dalam variabel v\n",
    "    v = (4/3) * 3.14 * (jari_jari**3)\n",
    "\n",
    "    # outputkan variabel v sambil membulatkannya dgn int()\n",
    "    return int(v)\n",
    "\n",
    "# definisikan variabel bernama konfirmasi berisi string \"Ya\" \n",
    "konfirmasi = \"\"\n",
    "\n",
    "# jalankan perulangan selama variabel konfirmasi tidak bernilai \"stop\"\n",
    "while konfirmasi != \"stop\":\n",
    "\n",
    "    # ambil jari-jari dari inputan user\n",
    "    jari_jari = input(\"Mohon masukan jari-jarinya untuk menghitung volume bola:\")\n",
    "\n",
    "    # jalankan fungsi hitung dengan melemparkan jari_jari nya, \n",
    "    # lalu tampung ke dalam variabel volume\n",
    "    volume = hitung_volume_bola(jari_jari)\n",
    "\n",
    "    # buat pesan dan hasilnya, \n",
    "    # saya masukan ke dalam variabel pesan biar mudah dipanggil dengan print\n",
    "    pesan = \"Volume bola jika jari-jarinya {}cm adalah {} cm3\".format(jari_jari, volume)\n",
    "\n",
    "    # tampilkan pesan dengan print\n",
    "    print(pesan)\n",
    "\n",
    "    # munculkan input untuk mengkonfirmasi apakah ingin melakukan perhitungan lagi?\n",
    "    # jika user menuliskan \"stop\", maka perulangan akan berhenti\n",
    "    # jika tidak, perulangan dan penghitungan akan berjalan lagi\n",
    "    konfirmasi = input(\"Hitung lagi? ya/stop\") \n"
   ]
  },
  {
   "cell_type": "code",
   "execution_count": null,
   "metadata": {},
   "outputs": [],
   "source": []
  }
 ]
}