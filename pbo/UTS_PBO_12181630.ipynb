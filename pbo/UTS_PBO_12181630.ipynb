{
 "metadata": {
  "language_info": {
   "codemirror_mode": {
    "name": "ipython",
    "version": 3
   },
   "file_extension": ".py",
   "mimetype": "text/x-python",
   "name": "python",
   "nbconvert_exporter": "python",
   "pygments_lexer": "ipython3",
   "version": "3.9.0-final"
  },
  "orig_nbformat": 2,
  "kernelspec": {
   "name": "python3",
   "display_name": "Python 3.9.0 64-bit",
   "metadata": {
    "interpreter": {
     "hash": "b5843a13e7131a14c3c0e364f0390d6592a995e3082c3f83420ac4385eeb2370"
    }
   }
  }
 },
 "nbformat": 4,
 "nbformat_minor": 2,
 "cells": [
  {
   "source": [
    "# UTS PBO\n",
    "# Nama  : Arbi Syarifudin\n",
    "# NIM   : 12181630 (Kelas Malam)"
   ],
   "cell_type": "code",
   "metadata": {},
   "execution_count": 25,
   "outputs": []
  },
  {
   "cell_type": "code",
   "execution_count": 4,
   "metadata": {},
   "outputs": [
    {
     "output_type": "stream",
     "name": "stdout",
     "text": [
      "Volume bola jika jari-jarinya 30cm adalah 113040 cm2\n"
     ]
    }
   ],
   "source": [
    "\n",
    "# Jawaban Soal No. 1:\n",
    "# Misal, Doni di beri sebuah bola oleh Ayahnya yang bola tersebut memiliki jari – jari sebesar 30cm,\n",
    "# maka volume bolanya adalah:\n",
    "\n",
    "# RUMUS Menghitung volume bola: V = 4/3  x  π x r^3\n",
    "\n",
    "# DIKETAHUI:\n",
    "# jari-jarinya = 30cm\n",
    "jari_jari = 30\n",
    "# pi (π) = 3,14\n",
    "\n",
    "# buat function untuk menghitung volume bola, dengan  parameter jari_jari\n",
    "def hitung_volume_bola(jari_jari):\n",
    "    # hitung volume bola sesuai rumus dan jari-jari yang diketahu\n",
    "    # tampung ke dalam variabel v\n",
    "    v = (4/3) * 3.14 * (jari_jari**3) # <--- alternatif : (4/3) * 3.14 * jari_jari * jari_jari * jari_jari\n",
    "    # outputkan v keluar dari fungsi dan berikan kepada si pemanggil fungsi tersebut\n",
    "    # int untuk membulatkan nilai\n",
    "    return int(v)\n",
    "\n",
    "# panggil fungsi hitung_volume bola, dengan melemparkan parameter jari_jari yang 30cm\n",
    "volume = hitung_volume_bola(jari_jari)\n",
    "print(\"Volume bola jika jari-jarinya {}cm adalah {} cm2\".format(jari_jari, volume));"
   ]
  },
  {
   "cell_type": "code",
   "execution_count": 1,
   "metadata": {
    "tags": []
   },
   "outputs": [
    {
     "output_type": "stream",
     "name": "stdout",
     "text": [
      "Volume bola jika jari-jarinya 5cm adalah 523 cm3\n",
      "Volume bola jika jari-jarinya 15cm adalah 14130 cm3\n",
      "Volume bola jika jari-jarinya 30cm adalah 113040 cm3\n",
      "Volume bola jika jari-jarinya 10cm adalah 4186 cm3\n",
      "Volume bola jika jari-jarinya 7cm adalah 1436 cm3\n"
     ]
    }
   ],
   "source": [
    "# Jawaban Soal No. 2:\n",
    "\n",
    "# buat sebuah fungsi seperti di cell nomor #1\n",
    "def hitung_volume_bola(jari_jari):\n",
    "    # karena berasal dari input user, maka saya harus menkonversikan var jari_jari menjadi integer terlebih dahulu\n",
    "    r = int(jari_jari)\n",
    "    # lalu hitung volumenya dan tampung ke dalam variabel v\n",
    "    v = (4/3) * 3.14 * (r**3)\n",
    "    # outputkan variabel v\n",
    "    return int(v)\n",
    "\n",
    "# definisikan variabel bernama konfirmasi berisi string \"Ya\" \n",
    "konfirmasi = \"\"\n",
    "\n",
    "# jalankan perulangan selama variabel konfirmasi tidak bernilai \"stop\"\n",
    "while konfirmasi != \"stop\":\n",
    "    # ambil jari-jari dari inputan user\n",
    "    jari_jari = input(\"Mohon masukan jari-jarinya untuk menghitung volume bola:\") \n",
    "    # jalankan fungsi hitung dengan melemparkan jari_jari nya, lalu tampung ke dalam variabel volume\n",
    "    volume = hitung_volume_bola(jari_jari)\n",
    "    # buat pesan dan hasilnya\n",
    "    pesan = \"Volume bola jika jari-jarinya {}cm adalah {} cm3\".format(jari_jari, volume)\n",
    "    # tampilkan dengan print\n",
    "    print(pesan)\n",
    "    # munculkan input untuk mengkonfirmasi\n",
    "    # jika user menuliskan \"stop\", maka perulangan akan berhenti\n",
    "    konfirmasi = input(\"Hitung lagi? ya/stop\") \n"
   ]
  },
  {
   "cell_type": "code",
   "execution_count": null,
   "metadata": {},
   "outputs": [],
   "source": []
  }
 ]
}