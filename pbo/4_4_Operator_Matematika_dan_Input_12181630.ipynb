{
  "nbformat": 4,
  "nbformat_minor": 0,
  "metadata": {
    "colab": {
      "name": "4.4_operator_matematika_dan_input.ipynb",
      "provenance": [],
      "collapsed_sections": []
    },
    "kernelspec": {
      "name": "Python 3.9.0 64-bit",
      "display_name": "Python 3.9.0 64-bit",
      "metadata": {
        "interpreter": {
          "hash": "b5843a13e7131a14c3c0e364f0390d6592a995e3082c3f83420ac4385eeb2370"
        }
      }
    }
  },
  "cells": [
    {
      "cell_type": "code",
      "metadata": {
        "id": "f7WajviOKztl"
      },
      "source": [
        ""
      ],
      "execution_count": null,
      "outputs": []
    },
    {
      "cell_type": "markdown",
      "metadata": {
        "id": "Zf9uJW37LCfb"
      },
      "source": [
        "**Praktek Operasi Input Dan Operator Matematika**\n",
        "\n",
        "Bukalah kembali praktek operator matematika.\n",
        "\n",
        "Ubahlah agar variable **a** dan **b** menggunakan input dari keyboard\n",
        "\n",
        "\n",
        "Implementasikan code di bawah ini pada kode cell editor:\n",
        "``` javascript\n",
        "selisih = a-b\n",
        "jumlah = a+b\n",
        "kali = a*b\n",
        "bagi = a/b\n",
        "print(\"Hasil penjumlahan dan b adalah\", jumlah)\n",
        "print(\"Selisih a dan b adalah :\",selisih)\n",
        "print(\"Hasil perkalian a dan b adalah :\",kali)\n",
        "print(\"Hasil  pembagian a dan b adalah:\",bagi)\n",
        "\n",
        "``` \n",
        " \n",
        "\n",
        "Ketikan pada code cell di bawah ini pada editor:"
      ]
    },
    {
      "cell_type": "code",
      "metadata": {
        "id": "hYGfkiKOMo_x"
      },
      "source": [
        "##Jawaban Tugas Praktek 3.4\n",
        "\n",
        "a = int(input(\"Masukkan angka pertama (sembarang) :\")) \n",
        "b = int(input(\"Masukkan angka kedua (sembarang) :\"))\n",
        "# saya menkonversi variable a dan b menjadi INTEGER terlebih dahulu dgn fungsi int()\n",
        "\n",
        "selisih = a-b\n",
        "jumlah = a+b\n",
        "kali = a*b\n",
        "bagi = a/b\n",
        "print(\"Hasil penjumlahan {} dan {} adalah :\".format(a, b), jumlah)\n",
        "print(\"Selisih {} dan {} adalah :\".format(a, b), selisih)\n",
        "print(\"Hasil perkalian {} dan {} adalah :\".format(a, b), kali)\n",
        "print(\"Hasil pembagian {} dan {} adalah :\".format(a, b), bagi)\n"
      ],
      "execution_count": 17,
      "outputs": [
        {
          "output_type": "stream",
          "name": "stdout",
          "text": [
            "Hasil penjumlahan 5 dan 2 adalah : 7\nSelisih 5 dan 2 adalah : 3\nHasil perkalian 5 dan 2 adalah : 10\nHasil pembagian 5 dan 2 adalah : 2.5\n"
          ]
        }
      ]
    },
    {
      "cell_type": "code",
      "execution_count": null,
      "metadata": {},
      "outputs": [],
      "source": []
    }
  ]
}